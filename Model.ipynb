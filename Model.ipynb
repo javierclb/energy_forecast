{
 "cells": [
  {
   "cell_type": "code",
   "execution_count": null,
   "metadata": {},
   "outputs": [],
   "source": [
    "%matplotlib inline\n",
    "import pandas as pd \n",
    "import datetime\n",
    "import tensorflow as tf\n",
    "from tensorflow.keras.models import Model\n",
    "from tensorflow.keras.preprocessing.sequence import TimeseriesGenerator\n",
    "from tensorflow.keras.layers import (Concatenate, Dense, LSTM, Input, Dropout, LeakyReLU, \n",
    "                                     TimeDistributed, RepeatVector)\n",
    "from tensorflow.keras.optimizers import Adam\n",
    "from tensorflow.keras.callbacks import ModelCheckpoint, TensorBoard\n",
    "import matplotlib.pyplot as plt\n",
    "import numpy as np\n",
    "from Processing import Holiday\n"
   ]
  },
  {
   "cell_type": "code",
   "execution_count": null,
   "metadata": {},
   "outputs": [],
   "source": [
    "train = df[\"load\"][:-8760]\n",
    "test = df[\"load\"][-8760:]\n",
    "mean, std = train.mean(), train.std()\n",
    "def data_generator(data, backward, forward, mean, std):\n",
    "    data = data.values\n",
    "    N = len(data)\n",
    "    normalized = ((data - mean)/std)\n",
    "    targets = TimeseriesGenerator(data, data, length=forward, batch_size=N)\n",
    "    target, _ = targets[0]\n",
    "    series = TimeseriesGenerator(normalized[:-forward], target, length=backward, batch_size=N-forward)\n",
    "    input, output = series[0]\n",
    "    return input, output\n",
    "  \n",
    "input_train, output_train = data_generator(train, 168, 24, mean, std)\n",
    "input_test, output_test = data_generator(test, 168, 24, mean, std)\n",
    "n, m = input_train.shape \n",
    "input_train = input_train.reshape(n, m, 1)\n",
    "dropout = 0.1"
   ]
  },
  {
   "cell_type": "code",
   "execution_count": null,
   "metadata": {},
   "outputs": [],
   "source": [
    "input_layer = Input(shape=(m, 1))\n",
    "seq = LSTM(units=200, dropout=dropout)(input_layer)\n",
    "seq = RepeatVector(24)(seq)\n",
    "seq = LSTM(units=200, dropout=dropout, return_sequences=True)(seq)\n",
    "seq = TimeDistributed(Dense(units=100, activation=tf.nn.relu))(seq)\n",
    "output_layer = TimeDistributed(Dropout(dropout))(seq)\n",
    "output_layer = TimeDistributed(Dense(1))(output_layer)\n",
    "\n",
    "model = Model(inputs=input_layer, outputs=output_layer)\n",
    "optimizer = Adam()\n",
    "\n",
    "model.compile(\n",
    "        loss=\"mean_squared_error\",\n",
    "        optimizer=optimizer,\n",
    "        metrics=[\"mean_absolute_error\", \"mean_squared_error\"])"
   ]
  },
  {
   "cell_type": "code",
   "execution_count": null,
   "metadata": {},
   "outputs": [],
   "source": [
    "checkpoint_name = 'checkpoints/Weights.hdf5' \n",
    "checkpoint = ModelCheckpoint(checkpoint_name, \n",
    "                            monitor='val_loss',\n",
    "                            verbose = 1, \n",
    "                            save_best_only = True, \n",
    "                            mode ='min')"
   ]
  },
  {
   "cell_type": "code",
   "execution_count": null,
   "metadata": {},
   "outputs": [],
   "source": [
    "history = model.fit(input_train,\n",
    "                    output_train,\n",
    "                    epochs=50,\n",
    "                    validation_split=0.3,\n",
    "                    verbose=1,\n",
    "                    callbacks=[checkpoint])"
   ]
  },
  {
   "cell_type": "code",
   "execution_count": null,
   "metadata": {},
   "outputs": [],
   "source": [
    "model.load_weights(\"checkpoints/Weights.hdf5\")\n",
    "pred = model.predict(input_test)"
   ]
  },
  {
   "cell_type": "code",
   "execution_count": null,
   "metadata": {},
   "outputs": [],
   "source": [
    "def multi_step_plot(history, true_future, prediction):\n",
    "  plt.figure(figsize=(12, 6))\n",
    "  num_in = len(history)\n",
    "  num_out = len(true_future)\n",
    "\n",
    "  plt.plot(np.arange(num_in), history, label='History')\n",
    "  plt.plot(np.arange(num_in, num_in + num_out),true_future, 'bo',\n",
    "           label='True Future')\n",
    "  if prediction.any():\n",
    "    plt.plot(np.arange(num_in, num_in + num_out), prediction, 'ro',\n",
    "             label='Predicted Future')\n",
    "  plt.legend(loc='upper left')\n",
    "  plt.show()\n",
    "\n",
    "  multi_step_plot(input_test[0]*std+mean, output_test[0], pred[0])"
   ]
  }
 ],
 "metadata": {
  "language_info": {
   "codemirror_mode": {
    "name": "ipython",
    "version": 3
   },
   "file_extension": ".py",
   "mimetype": "text/x-python",
   "name": "python",
   "nbconvert_exporter": "python",
   "pygments_lexer": "ipython3",
   "version": 3
  },
  "orig_nbformat": 2
 },
 "nbformat": 4,
 "nbformat_minor": 2
}